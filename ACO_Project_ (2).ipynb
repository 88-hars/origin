{
  "nbformat": 4,
  "nbformat_minor": 0,
  "metadata": {
    "colab": {
      "provenance": [],
      "gpuType": "T4"
    },
    "kernelspec": {
      "name": "python3",
      "display_name": "Python 3"
    },
    "language_info": {
      "name": "python"
    },
    "accelerator": "GPU"
  },
  "cells": [
    {
      "cell_type": "markdown",
      "source": [
        "## Green Credit Allocation Using ACO\n",
        "EC Project"
      ],
      "metadata": {
        "id": "jl2qaMzzMHE7"
      }
    },
    {
      "cell_type": "code",
      "source": [
        "#Importing Libraries\n",
        "\n",
        "import random\n",
        "import numpy as np\n",
        "import pandas as pd\n"
      ],
      "metadata": {
        "id": "dk8QaUkhvmIJ"
      },
      "execution_count": null,
      "outputs": []
    },
    {
      "cell_type": "code",
      "source": [
        " #Read data from CSV file\n",
        "data = pd.read_csv(\"data.csv\")"
      ],
      "metadata": {
        "id": "WMefaecIvy18"
      },
      "execution_count": null,
      "outputs": []
    },
    {
      "cell_type": "code",
      "source": [
        "# Define risk categories and corresponding rating ranges\n",
        "risk_categories = {\n",
        "    \"Safe\": [\"AAA\"],\n",
        "    \"Adequately Safe\": [\"AA\", \"A\"],\n",
        "    \"Moderate Risk\": [\"BBB\", \"BB\"],\n",
        "    \"Risky\": [\"B\", \"CCC\", \"CC\"],\n",
        "    \"Highly Risky\": [\"C\"]\n",
        "}\n"
      ],
      "metadata": {
        "id": "AYGrB91gv6HI"
      },
      "execution_count": null,
      "outputs": []
    },
    {
      "cell_type": "code",
      "source": [
        "# Define parameters\n",
        "num_ants = 10\n",
        "iterations = 15\n",
        "pheromone_decay = 0.5\n",
        "alpha = 1.0  # Weight for pheromone\n",
        "beta = 1.5  # Weight for heuristic (adjust based on priorities)\n"
      ],
      "metadata": {
        "id": "PaWFWJRuv_tD"
      },
      "execution_count": null,
      "outputs": []
    },
    {
      "cell_type": "code",
      "source": [
        "# Define normalization factors (find maximum values for each)\n",
        "max_ytm = data['YTM'].max()\n",
        "max_coupon = data['coupon'].max()\n",
        "max_carbon_reduction = data['carbon_reduction'].max()\n"
      ],
      "metadata": {
        "id": "YFY9ZI6lwK4c"
      },
      "execution_count": null,
      "outputs": []
    },
    {
      "cell_type": "code",
      "source": [
        "def risk_factor(rating):\n",
        "    for category, ratings in risk_categories.items():\n",
        "        if rating in ratings:\n",
        "            risk_factor_value = 5 - list(risk_categories.values()).index(ratings)\n",
        "            return {\"category\": category, \"factor\": risk_factor_value}\n",
        "    return {\"category\": \"Highly Risky\", \"factor\": 0}  # Default for unrated bonds\n"
      ],
      "metadata": {
        "id": "Jx6iDkIpwMcs"
      },
      "execution_count": null,
      "outputs": []
    },
    {
      "cell_type": "code",
      "source": [
        "def heuristic(i, investment, user_risk):\n",
        "    # Combine YTM, coupon, carbon reduction, and risk factor (adjusted for user risk)\n",
        "    ytm_norm = investment[\"YTM\"] / max_ytm if not pd.isnull(investment[\"YTM\"]) else 0\n",
        "    coupon_norm = investment[\"coupon\"] / max_coupon if not pd.isnull(investment[\"coupon\"]) else 0\n",
        "\n",
        "    # Check if \"rating\" column contains valid values\n",
        "    if \"rating\" in investment and investment[\"rating\"] in risk_categories:\n",
        "        risk_factor_adj = risk_factor(investment[\"rating\"])[\"factor\"] * (1 - user_risk)\n",
        "    else:\n",
        "        risk_factor_adj = 0  # Assign default value if rating is missing or invalid\n",
        "\n",
        "    return (ytm_norm + coupon_norm) * 0.02+ (investment[\"carbon_reduction\"] / max_carbon_reduction) * 0.8 + risk_factor_adj * 0.22"
      ],
      "metadata": {
        "id": "cqz-FFvwwfRS"
      },
      "execution_count": null,
      "outputs": []
    },
    {
      "cell_type": "code",
      "source": [
        "# ACO algorithm\n",
        "def aco(data, user_risk):\n",
        "    pheromone_matrix = np.ones((len(data), len(data)))\n",
        "    ant_paths = []\n",
        "\n",
        "    for _ in range(iterations):\n",
        "        for _ in range(num_ants):\n",
        "            current_city = random.randint(0, len(data) - 1)\n",
        "            visited_cities = [current_city]\n",
        "            while len(visited_cities) < len(data):\n",
        "                # Calculate transition probabilities based on pheromone and heuristic\n",
        "                probabilities = np.zeros(len(data))\n",
        "                for i in range(len(data)):\n",
        "                    if i not in visited_cities:\n",
        "                        pheromone = pheromone_matrix[current_city, i]  # Pheromone on the edge\n",
        "                        heuristic_value = heuristic(i, data.iloc[i], user_risk)  # Heuristic value of the next city\n",
        "                        probabilities[i] = (pheromone**alpha) * (heuristic_value**beta)\n",
        "                # Select next city based on probability distribution\n",
        "                next_city = np.random.choice(np.arange(len(data)), p=probabilities / probabilities.sum())\n",
        "                visited_cities.append(next_city)\n",
        "                current_city = next_city\n",
        "\n",
        "            # Update pheromone on the path (after completing the ant path)\n",
        "            for i in range(1, len(visited_cities)):\n",
        "                from_city, to_city = visited_cities[i-1], visited_cities[i]\n",
        "                pheromone_matrix[from_city, to_city] += 1 / len(visited_cities)\n",
        "\n",
        "            # Add the current ant path to the list of paths\n",
        "            ant_paths.append(visited_cities)\n",
        "\n",
        "        # Identify best path based on pheromone matrix (after all ant iterations)\n",
        "        path_pheromone_sums = [sum(pheromone_matrix[path[i], path[i+1]] for i in range(len(path)-1)) for path in ant_paths]\n",
        "        best_path_idx = np.argmax(path_pheromone_sums)\n",
        "\n",
        "        # Retrieve best investment indices from best path\n",
        "        best_investment_indices = ant_paths[best_path_idx]\n",
        "\n",
        "    return best_investment_indices  # Return the best investment indices\n"
      ],
      "metadata": {
        "id": "vafvF7BhwhOZ"
      },
      "execution_count": null,
      "outputs": []
    },
    {
      "cell_type": "code",
      "source": [
        "user_risk = 0.01\n",
        "best_investments = aco(data, user_risk)\n",
        "\n",
        "print(\"Recommended Investments:\")\n",
        "for i, investment_index in enumerate(best_investments[:10]): # Limiting to the first 10 investments\n",
        "    if i >= 10:\n",
        "        break\n",
        "    investment = data.iloc[investment_index]\n",
        "    print(f\"  - ISIN: {investment['ISIN']} (Carbon Reduction: {investment['carbon_reduction']} Tonnes) (YTM: {investment['YTM']} )\")\n"
      ],
      "metadata": {
        "colab": {
          "base_uri": "https://localhost:8080/"
        },
        "id": "9rybCB082ilO",
        "outputId": "55d1b83b-4505-4f9b-96bf-8fe2abc5ac96"
      },
      "execution_count": null,
      "outputs": [
        {
          "output_type": "stream",
          "name": "stdout",
          "text": [
            "Recommended Investments:\n",
            "  - ISIN: INE998Y07139 (Carbon Reduction: 20000 Tonnes) (YTM: 9.17 )\n",
            "  - ISIN: INE053F07BD9 (Carbon Reduction: 12000 Tonnes) (YTM: 13.4 )\n",
            "  - ISIN: INE040A08906 (Carbon Reduction: 15478 Tonnes) (YTM: 8.361 )\n",
            "  - ISIN: INE140A07765 (Carbon Reduction: 80002 Tonnes) (YTM: 11.05 )\n",
            "  - ISIN: INE146O08241 (Carbon Reduction: 60000 Tonnes) (YTM: 7.76 )\n",
            "  - ISIN: INE756I07EP9 (Carbon Reduction: 74582 Tonnes) (YTM: 7.5825 )\n",
            "  - ISIN: INE742F07528 (Carbon Reduction: 22154 Tonnes) (YTM: 8.4304 )\n",
            "  - ISIN: INE476A08225 (Carbon Reduction: 95287 Tonnes) (YTM: 7.71 )\n",
            "  - ISIN: INE134E07AT8 (Carbon Reduction: 45872 Tonnes) (YTM: 7.52 )\n",
            "  - ISIN: INE774D08MW0 (Carbon Reduction: 45782 Tonnes) (YTM: 8.48 )\n"
          ]
        }
      ]
    },
    {
      "cell_type": "code",
      "source": [
        "# Call the ACO function and print the recommended investments\n",
        "user_risk = 0.01\n",
        "best_investments = aco(data, user_risk)\n",
        "\n",
        "print(\"Recommended Investments:\")\n",
        "for i in best_investments:\n",
        "    investment = data.iloc[i]\n",
        "    print(f\"  - ISIN: {investment['ISIN']} (Carbon Reduction: {investment['carbon_reduction']} Tonnes) (YTM: {investment['YTM']} )\")\n"
      ],
      "metadata": {
        "colab": {
          "base_uri": "https://localhost:8080/"
        },
        "id": "qUQ0lObKwrIn",
        "outputId": "1792ce07-6f42-42e9-dddb-fd7b350a3059"
      },
      "execution_count": null,
      "outputs": [
        {
          "output_type": "stream",
          "name": "stdout",
          "text": [
            "Recommended Investments:\n",
            "  - ISIN: INE787H08055 (Carbon Reduction: 12485 Tonnes) (YTM: 8.49 )\n",
            "  - ISIN: INE756I07EP9 (Carbon Reduction: 74582 Tonnes) (YTM: 7.5825 )\n",
            "  - ISIN: INE721A08DA2 (Carbon Reduction: 87000 Tonnes) (YTM: 13.1 )\n",
            "  - ISIN: INE134E08MT1 (Carbon Reduction: 12248 Tonnes) (YTM: 8.4 )\n",
            "  - ISIN: INE140A07765 (Carbon Reduction: 80002 Tonnes) (YTM: 11.05 )\n",
            "  - ISIN: INE476A08225 (Carbon Reduction: 95287 Tonnes) (YTM: 7.71 )\n",
            "  - ISIN: INE124N07648 (Carbon Reduction: 19000 Tonnes) (YTM: 13.7951 )\n",
            "  - ISIN: INE040A08666 (Carbon Reduction: 12458 Tonnes) (YTM: 9.31 )\n",
            "  - ISIN: INE140R08080 (Carbon Reduction: 1425 Tonnes) (YTM: 8.1032 )\n",
            "  - ISIN: INE084A08169 (Carbon Reduction: 10000 Tonnes) (YTM: 8.2318 )\n",
            "  - ISIN: INE535H08801 (Carbon Reduction: 25874 Tonnes) (YTM: 8.3 )\n",
            "  - ISIN: INE774D08MW0 (Carbon Reduction: 45782 Tonnes) (YTM: 8.48 )\n",
            "  - ISIN: INE612U08041 (Carbon Reduction: 21587 Tonnes) (YTM: 9.18 )\n",
            "  - ISIN: INE756I07EW5 (Carbon Reduction: 12485 Tonnes) (YTM: 8.55 )\n",
            "  - ISIN: INE296A07RU5 (Carbon Reduction: 27000 Tonnes) (YTM: 8.1525 )\n",
            "  - ISIN: INE134E07AT8 (Carbon Reduction: 45872 Tonnes) (YTM: 7.52 )\n",
            "  - ISIN: INE321N07368 (Carbon Reduction: 25879 Tonnes) (YTM: 11.25 )\n",
            "  - ISIN: INE692A08227 (Carbon Reduction: 15478 Tonnes) (YTM: 8.23 )\n",
            "  - ISIN: INE040A08930 (Carbon Reduction: 12003 Tonnes) (YTM: 8.1181 )\n",
            "  - ISIN: INE121A07PN4 (Carbon Reduction: 15470 Tonnes) (YTM: 10.1 )\n",
            "  - ISIN: INE062A08413 (Carbon Reduction: 14875 Tonnes) (YTM: 7.8013 )\n",
            "  - ISIN: INE140A07658 (Carbon Reduction: 45820 Tonnes) (YTM: 7.73 )\n",
            "  - ISIN: INE040A08906 (Carbon Reduction: 15478 Tonnes) (YTM: 8.361 )\n",
            "  - ISIN: INE774D07VE1 (Carbon Reduction: 25874 Tonnes) (YTM: 8.02 )\n",
            "  - ISIN: INE539K07171 (Carbon Reduction: 12458 Tonnes) (YTM: 13.5 )\n",
            "  - ISIN: INE742F07528 (Carbon Reduction: 22154 Tonnes) (YTM: 8.4304 )\n",
            "  - ISIN: INE721A07NX5 (Carbon Reduction: 30015 Tonnes) (YTM: 11.6147 )\n",
            "  - ISIN: INE998Y07139 (Carbon Reduction: 20000 Tonnes) (YTM: 9.17 )\n",
            "  - ISIN: INE053F07728 (Carbon Reduction: 10245 Tonnes) (YTM: 8.15 )\n",
            "  - ISIN: INE556F08KE8 (Carbon Reduction: 12548 Tonnes) (YTM: 7.4506 )\n",
            "  - ISIN: INE146O08241 (Carbon Reduction: 60000 Tonnes) (YTM: 7.76 )\n",
            "  - ISIN: INE018E08169 (Carbon Reduction: 21458 Tonnes) (YTM: 8.85 )\n",
            "  - ISIN: INE342T07379 (Carbon Reduction: 12457 Tonnes) (YTM: 13.57 )\n",
            "  - ISIN: INE818W08099 (Carbon Reduction: 25899 Tonnes) (YTM: 13.8 )\n",
            "  - ISIN: INE033L08304 (Carbon Reduction: 12458 Tonnes) (YTM: 9.5 )\n",
            "  - ISIN: INE115A07NY8 (Carbon Reduction: 14720 Tonnes) (YTM: 7.92 )\n",
            "  - ISIN: INE860H07IW8 (Carbon Reduction: 12548 Tonnes) (YTM: 9.0 )\n",
            "  - ISIN: INE134E08DS2 (Carbon Reduction: 21300 Tonnes) (YTM: 10.7459 )\n",
            "  - ISIN: INE134E08JI0 (Carbon Reduction: 5000 Tonnes) (YTM: 7.78 )\n",
            "  - ISIN: INE01YL07250 (Carbon Reduction: 15478 Tonnes) (YTM: 10.75 )\n",
            "  - ISIN: INE723X07166 (Carbon Reduction: 22580 Tonnes) (YTM: 7.5805 )\n",
            "  - ISIN: INE861G08076 (Carbon Reduction: 15000 Tonnes) (YTM: 11.0581 )\n",
            "  - ISIN: INE514E08GB4 (Carbon Reduction: 13000 Tonnes) (YTM: 8.2739 )\n",
            "  - ISIN: INE053F07BD9 (Carbon Reduction: 12000 Tonnes) (YTM: 13.4 )\n",
            "  - ISIN: INE605Y07148 (Carbon Reduction: 3692 Tonnes) (YTM: 8.16 )\n",
            "  - ISIN: INE020B08EP3 (Carbon Reduction: 12000 Tonnes) (YTM: 7.75 )\n",
            "  - ISIN: INE976I07CS1 (Carbon Reduction: 22103 Tonnes) (YTM: 7.6904 )\n",
            "  - ISIN: INE261F08EF5 (Carbon Reduction: 6000 Tonnes) (YTM: 8.3952 )\n",
            "  - ISIN: INE556F08KI9 (Carbon Reduction: 12580 Tonnes) (YTM: 7.8 )\n",
            "  - ISIN: INE134E08FQ1 (Carbon Reduction: 12000 Tonnes) (YTM: 8.14 )\n",
            "  - ISIN: INE246R07715 (Carbon Reduction: 25870 Tonnes) (YTM: 7.5538 )\n",
            "  - ISIN: INE891K08174 (Carbon Reduction: 12000 Tonnes) (YTM: 8.1993 )\n",
            "  - ISIN: INE020B08EL2 (Carbon Reduction: 10000 Tonnes) (YTM: 7.725 )\n",
            "  - ISIN: INE735X08051 (Carbon Reduction: 10120 Tonnes) (YTM: 10.501 )\n",
            "  - ISIN: INE053F08288 (Carbon Reduction: 1487 Tonnes) (YTM: 7.9948 )\n",
            "  - ISIN: INE134E08KT5 (Carbon Reduction: 2587 Tonnes) (YTM: 7.74 )\n",
            "  - ISIN: INE556F08KO7 (Carbon Reduction: 1248 Tonnes) (YTM: 7.7952 )\n",
            "  - ISIN: INE002A07809 (Carbon Reduction: 1248 Tonnes) (YTM: 8.61 )\n",
            "  - ISIN: INE020B08BU9 (Carbon Reduction: 14500 Tonnes) (YTM: 7.4 )\n",
            "  - ISIN: INE153A08170 (Carbon Reduction: 12548 Tonnes) (YTM: 8.29 )\n",
            "  - ISIN: INE296A07SF4 (Carbon Reduction: 1548 Tonnes) (YTM: 5.1052 )\n",
            "  - ISIN: INE261F08BX4 (Carbon Reduction: 1542 Tonnes) (YTM: 8.13 )\n",
            "  - ISIN: INE572J07653 (Carbon Reduction: 10000 Tonnes) (YTM: 10.8581 )\n",
            "  - ISIN: INE756I07EG8 (Carbon Reduction: 3125 Tonnes) (YTM: 8.71 )\n",
            "  - ISIN: INE572O07HR7 (Carbon Reduction: 1487 Tonnes) (YTM: 8.73 )\n",
            "  - ISIN: INE134E08LD7 (Carbon Reduction: 2258 Tonnes) (YTM: 7.4 )\n",
            "  - ISIN: INE07HK07346 (Carbon Reduction: 2222 Tonnes) (YTM: 11.1525 )\n",
            "  - ISIN: INE752E07IZ7 (Carbon Reduction: 5821 Tonnes) (YTM: 7.58 )\n",
            "  - ISIN: INE414G07HK3 (Carbon Reduction: 2154 Tonnes) (YTM: 8.125 )\n",
            "  - ISIN: INE342T07411 (Carbon Reduction: 2579 Tonnes) (YTM: 8.2448 )\n",
            "  - ISIN: INE084A08177 (Carbon Reduction: 122 Tonnes) (YTM: 8.15 )\n",
            "  - ISIN: INE477A07316 (Carbon Reduction: 1248 Tonnes) (YTM: 8.84 )\n",
            "  - ISIN: INE157D07EE5 (Carbon Reduction: 2287 Tonnes) (YTM: 7.53 )\n",
            "  - ISIN: INE163N08289 (Carbon Reduction: 1400 Tonnes) (YTM: 7.79 )\n",
            "  - ISIN: INE121A07QJ0 (Carbon Reduction: 1124 Tonnes) (YTM: 8.6556 )\n",
            "  - ISIN: INE121A07QO0 (Carbon Reduction: 2458 Tonnes) (YTM: 8.3 )\n",
            "  - ISIN: INE115A07PM8 (Carbon Reduction: 1235 Tonnes) (YTM: 8.0 )\n",
            "  - ISIN: INE0CCU07074 (Carbon Reduction: 1248 Tonnes) (YTM: 8.65 )\n",
            "  - ISIN: INE153A08105 (Carbon Reduction: 1458 Tonnes) (YTM: 9.25 )\n",
            "  - ISIN: INE148I08256 (Carbon Reduction: 2100 Tonnes) (YTM: 7.79 )\n",
            "  - ISIN: INE134E08KK4 (Carbon Reduction: 1248 Tonnes) (YTM: 7.7995 )\n",
            "  - ISIN: INE121A07QY9 (Carbon Reduction: 2369 Tonnes) (YTM: 10.575 )\n",
            "  - ISIN: INE115A07QK0 (Carbon Reduction: 2580 Tonnes) (YTM: 7.85 )\n",
            "  - ISIN: INE296A07SK4 (Carbon Reduction: 1245 Tonnes) (YTM: 8.24 )\n",
            "  - ISIN: INE860H07IS6 (Carbon Reduction: 5874 Tonnes) (YTM: 8.1041 )\n",
            "  - ISIN: INE248U07EW8 (Carbon Reduction: 1578 Tonnes) (YTM: 10.5 )\n",
            "  - ISIN: INE411R07178 (Carbon Reduction: 2300 Tonnes) (YTM: 7.45 )\n",
            "  - ISIN: INE516Y07444 (Carbon Reduction: 12587 Tonnes) (YTM: 9.03 )\n",
            "  - ISIN: INE658F08144 (Carbon Reduction: 2588 Tonnes) (YTM: 11.23 )\n",
            "  - ISIN: INE08XP07175 (Carbon Reduction: 1200 Tonnes) (YTM: 8.0 )\n",
            "  - ISIN: INE040A08963 (Carbon Reduction: 1578 Tonnes) (YTM: 9.9 )\n",
            "  - ISIN: INE539K07254 (Carbon Reduction: 1248 Tonnes) (YTM: 7.9795 )\n",
            "  - ISIN: INE941D07166 (Carbon Reduction: 154 Tonnes) (YTM: 8.215 )\n",
            "  - ISIN: INE774D07SW9 (Carbon Reduction: 2000 Tonnes) (YTM: 9.2641 )\n",
            "  - ISIN: INE530L07228 (Carbon Reduction: 1245 Tonnes) (YTM: 7.86 )\n",
            "  - ISIN: INE403D08165 (Carbon Reduction: 1248 Tonnes) (YTM: 7.53 )\n",
            "  - ISIN: INE756I08207 (Carbon Reduction: 2532 Tonnes) (YTM: 8.24 )\n",
            "  - ISIN: INE540P07095 (Carbon Reduction: 1245 Tonnes) (YTM: 7.61 )\n",
            "  - ISIN: INE916DA7RF7 (Carbon Reduction: 1240 Tonnes) (YTM: 7.6 )\n"
          ]
        }
      ]
    }
  ]
}